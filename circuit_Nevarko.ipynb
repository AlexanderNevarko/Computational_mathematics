{
 "cells": [
  {
   "cell_type": "code",
   "execution_count": 2,
   "metadata": {},
   "outputs": [
    {
     "name": "stdout",
     "output_type": "stream",
     "text": [
      "Enter N > 2: 100\n",
      "i(t = 0.1) = 32.15470137229556\n"
     ]
    },
    {
     "data": {
      "image/png": "[encoded data removed]",
      "text/plain": [
       "<Figure size 432x288 with 1 Axes>"
      ]
     },
     "metadata": {
      "needs_background": "light"
     },
     "output_type": "display_data"
    }
   ],
   "source": [
    "'''\n",
    "Решение задачи практической Х.8.9 от Неварко Александра.\n",
    "В комеентариях к задаче вы написали, что нужно обосновать выбор сетки.\n",
    "В данной реализации сетка задаётся как входной параметр.\n",
    "Эмпирическим путём было выяснено, что график решения перестаёт\n",
    "характерно изменяться при N > 1000. Однако, значение производной\n",
    "с правого края всё же ведёт себя нестабильно при такой сетке.\n",
    "Так же, эмпирическим путём я выяснил, что при N > 10 000 точность\n",
    "значения производной начинает составлять порядка 1е-3 и она ведёт себя\n",
    "стабильно.\n",
    "Также я заметил тот факт, что при параметре N ~ 160 наступает критический момент\n",
    "и колебания из затухающих (что является физичным) переходят в стационарные,\n",
    "а при дальнейшем уменьшении N колебания и вовсе становятся возрастающими,\n",
    "что нарушает физические законы\n",
    "Данное наблюдение требует дальнейшего изучения.\n",
    "В задаче приведено значение R = 1000 Ом, но я поменял на 100, так как\n",
    "так выше добротность контура и за результатом смотреть интереснее.\n",
    "'''\n",
    "\n",
    "\n",
    "import pylab as plt\n",
    "\n",
    "\n",
    "# Block of constants\n",
    "E = 24  # Volts\n",
    "R = 100  # Om\n",
    "L = 1  # Henri\n",
    "C = 6.25e-6  # Farad\n",
    "T = 0.1  # Seconds\n",
    "\n",
    "# Input the grid parameter\n",
    "N = int(input('Enter N > 2: ').strip())\n",
    "dt = T / N\n",
    "t = [dt * i for i in range(N)]\n",
    "\n",
    "# Block of starting values\n",
    "Q0 = 0\n",
    "Q1 = 5 * dt\n",
    "\n",
    "\n",
    "def make_step(q, n, c1, c2, free_member, N):\n",
    "    '''\n",
    "    :param q: array of q(n) values\n",
    "    :param n: number of the needed value\n",
    "    :param c1: coeff in front of q(n-1)\n",
    "    :param c2: coeff in front of q(n-2)\n",
    "    :param free_member: free member\n",
    "    :param N: max number\n",
    "    :return: True\n",
    "    '''\n",
    "    if n > N:\n",
    "        raise IndexError('n > N')\n",
    "    if n < 2:\n",
    "        raise IndexError('no starting values q(0) and q(1)!')\n",
    "    q[n] = c1 * q[n-1] + c2 * q[n-2] + free_member\n",
    "    return True\n",
    "\n",
    "\n",
    "# Calculating coefficients\n",
    "c1 = 2 - R * dt / L\n",
    "c2 = R * dt / L - 1 - dt * dt / L / C\n",
    "free_member = E * dt * dt / L\n",
    "\n",
    "# Calculating q[] array\n",
    "q = [0] * N\n",
    "q[0] = Q0\n",
    "q[1] = Q1\n",
    "for i in range(2, N):\n",
    "    make_step(q, i, c1, c2, free_member, N)\n",
    "\n",
    "# Output\n",
    "print('i(t = 0.1) =', (q[-1] - q[-2]) / dt)\n",
    "plt.figure()\n",
    "plt.plot(t, q)\n",
    "plt.show()\n"
   ]
  },
  {
   "cell_type": "code",
   "execution_count": null,
   "metadata": {},
   "outputs": [],
   "source": []
  }
 ],
 "metadata": {
  "kernelspec": {
   "display_name": "Python 3",
   "language": "python",
   "name": "python3"
  },
  "language_info": {
   "codemirror_mode": {
    "name": "ipython",
    "version": 3
   },
   "file_extension": ".py",
   "mimetype": "text/x-python",
   "name": "python",
   "nbconvert_exporter": "python",
   "pygments_lexer": "ipython3",
   "version": "3.7.3"
  }
 },
 "nbformat": 4,
 "nbformat_minor": 2
}
